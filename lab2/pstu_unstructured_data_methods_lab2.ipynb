{
  "nbformat": 4,
  "nbformat_minor": 0,
  "metadata": {
    "colab": {
      "provenance": []
    },
    "kernelspec": {
      "name": "python3",
      "display_name": "Python 3"
    },
    "language_info": {
      "name": "python"
    }
  },
  "cells": [
    {
      "cell_type": "code",
      "execution_count": 1,
      "metadata": {
        "id": "0vKbNpWiSRy8"
      },
      "outputs": [],
      "source": [
        "import json\n",
        "import csv\n",
        "import xml.etree.ElementTree as ET\n",
        "from bs4 import BeautifulSoup\n",
        "from dataclasses import dataclass, asdict\n",
        "from typing import List, Dict\n",
        "import sys\n",
        "import pandas as pd"
      ]
    },
    {
      "cell_type": "code",
      "source": [
        "@dataclass\n",
        "class DataRecord:\n",
        "    data: List[Dict[str, str]]\n",
        "\n",
        "    def to_json(self):\n",
        "        return json.dumps(self.data, indent=4, ensure_ascii=False)\n",
        "\n",
        "    def to_csv(self):\n",
        "        output = []\n",
        "        if self.data:\n",
        "            keys = self.data[0].keys()\n",
        "            output.append(','.join(keys))\n",
        "            for row in self.data:\n",
        "                output.append(','.join(row.get(k, '') for k in keys))\n",
        "        return '\\n'.join(output)\n",
        "\n",
        "    def to_tsv(self):\n",
        "        return self.to_csv().replace(',', '\\t')\n",
        "\n",
        "    def to_xml(self):\n",
        "        root = ET.Element(\"root\")\n",
        "        for row in self.data:\n",
        "            item = ET.SubElement(root, \"item\")\n",
        "            for key, value in row.items():\n",
        "                ET.SubElement(item, key).text = value\n",
        "        return ET.tostring(root, encoding='unicode')\n",
        "\n",
        "    def to_html(self):\n",
        "        df = pd.DataFrame(self.data)\n",
        "        return df.to_html(index=False)"
      ],
      "metadata": {
        "id": "UGO2hVqESfG6"
      },
      "execution_count": 2,
      "outputs": []
    },
    {
      "cell_type": "code",
      "source": [
        "def from_json(content):\n",
        "    data = json.loads(content)\n",
        "    return DataRecord(data)"
      ],
      "metadata": {
        "id": "xGgIrRIdTIYa"
      },
      "execution_count": 5,
      "outputs": []
    },
    {
      "cell_type": "code",
      "source": [
        "def from_csv(content):\n",
        "    reader = csv.DictReader(content.splitlines())\n",
        "    return DataRecord([row for row in reader])"
      ],
      "metadata": {
        "id": "iILKGAIyTKw0"
      },
      "execution_count": 6,
      "outputs": []
    },
    {
      "cell_type": "code",
      "source": [
        "def from_tsv(content):\n",
        "    reader = csv.DictReader(content.splitlines(), delimiter='\\t')\n",
        "    return DataRecord([row for row in reader])"
      ],
      "metadata": {
        "id": "nIKE6VFATMKb"
      },
      "execution_count": 7,
      "outputs": []
    },
    {
      "cell_type": "code",
      "source": [
        "def from_xml(content):\n",
        "    root = ET.fromstring(content)\n",
        "    data = []\n",
        "    for item in root.findall(\"item\"):\n",
        "        row = {child.tag: child.text for child in item}\n",
        "        data.append(row)\n",
        "    return DataRecord(data)"
      ],
      "metadata": {
        "id": "RfDSveyCTfH4"
      },
      "execution_count": 8,
      "outputs": []
    },
    {
      "cell_type": "code",
      "source": [
        "def from_html(content):\n",
        "    soup = BeautifulSoup(content, \"html.parser\")\n",
        "    table = soup.find(\"table\")\n",
        "    rows = table.find_all(\"tr\")\n",
        "    headers = [th.text for th in rows[0].find_all(\"th\")]\n",
        "    data = []\n",
        "    for row in rows[1:]:\n",
        "        values = [td.text for td in row.find_all(\"td\")]\n",
        "        data.append(dict(zip(headers, values)))\n",
        "    return DataRecord(data)"
      ],
      "metadata": {
        "id": "JLzhLKoPThfv"
      },
      "execution_count": 9,
      "outputs": []
    },
    {
      "cell_type": "code",
      "source": [
        "def convert(input_content, input_format, output_format):\n",
        "    parsers = {\n",
        "        \"json\": from_json,\n",
        "        \"csv\": from_csv,\n",
        "        \"tsv\": from_tsv,\n",
        "        \"xml\": from_xml,\n",
        "        \"html\": from_html,\n",
        "    }\n",
        "    serializers = {\n",
        "        \"json\": DataRecord.to_json,\n",
        "        \"csv\": DataRecord.to_csv,\n",
        "        \"tsv\": DataRecord.to_tsv,\n",
        "        \"xml\": DataRecord.to_xml,\n",
        "        \"html\": DataRecord.to_html,\n",
        "    }\n",
        "\n",
        "    if input_format not in parsers or output_format not in serializers:\n",
        "        raise ValueError(\"Unsupported format\")\n",
        "\n",
        "    record = parsers[input_format](input_content)\n",
        "    return serializers[output_format](record)"
      ],
      "metadata": {
        "id": "qF7ejdnVTmCX"
      },
      "execution_count": 15,
      "outputs": []
    },
    {
      "cell_type": "code",
      "source": [
        "def save_output(content, output_file):\n",
        "    with open(output_file, \"w\", encoding=\"utf-8\") as f:\n",
        "        f.write(content)"
      ],
      "metadata": {
        "id": "7x7XxT6_Vwk_"
      },
      "execution_count": 12,
      "outputs": []
    },
    {
      "cell_type": "code",
      "source": [
        "input_format = \"json\"\n",
        "output_format = \"csv\"\n",
        "\n",
        "input_file = \"input.json\"\n",
        "\n",
        "with open(input_file, \"r\", encoding=\"utf-8\") as f:\n",
        "    input_content = f.read()\n",
        "\n",
        "formats = [\"json\", \"csv\", \"tsv\", \"xml\", \"html\"]\n",
        "for output_format in formats:\n",
        "    if output_format != \"json\":\n",
        "        output_content = convert(input_content, \"json\", output_format)\n",
        "        save_output(output_content, f\"converted.{output_format}\")"
      ],
      "metadata": {
        "id": "OuEOek8hTqmb"
      },
      "execution_count": 14,
      "outputs": []
    }
  ]
}