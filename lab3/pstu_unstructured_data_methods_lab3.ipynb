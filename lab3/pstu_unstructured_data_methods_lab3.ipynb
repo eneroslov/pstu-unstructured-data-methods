{
  "nbformat": 4,
  "nbformat_minor": 0,
  "metadata": {
    "colab": {
      "provenance": []
    },
    "kernelspec": {
      "name": "python3",
      "display_name": "Python 3"
    },
    "language_info": {
      "name": "python"
    }
  },
  "cells": [
    {
      "cell_type": "code",
      "source": [
        "from typing import List, Optional, Any\n",
        "from pydantic import BaseModel\n",
        "import yaml\n",
        "import networkx as nx\n",
        "import matplotlib.pyplot as plt\n",
        "import json"
      ],
      "metadata": {
        "id": "9dZgOX7WZMVm"
      },
      "execution_count": 19,
      "outputs": []
    },
    {
      "cell_type": "code",
      "source": [
        "class Metadata(BaseModel):\n",
        "    generateName: Optional[str]\n",
        "\n",
        "class Parameter(BaseModel):\n",
        "    name: str\n",
        "\n",
        "class Inputs(BaseModel):\n",
        "    parameters: List[Parameter]\n",
        "\n",
        "class Container(BaseModel):\n",
        "    image: str\n",
        "    command: List[str]\n",
        "\n",
        "class TaskParameter(BaseModel):\n",
        "    name: str\n",
        "    value: Any\n",
        "\n",
        "class Arguments(BaseModel):\n",
        "    parameters: List[TaskParameter]\n",
        "\n",
        "class Task(BaseModel):\n",
        "    name: str\n",
        "    template: str\n",
        "    depends: Optional[str] = None\n",
        "    arguments: Optional[Arguments] = None\n",
        "\n",
        "class Dag(BaseModel):\n",
        "    tasks: List[Task]\n",
        "\n",
        "class Template(BaseModel):\n",
        "    name: str\n",
        "    inputs: Optional[Inputs] = None\n",
        "    container: Optional[Container] = None\n",
        "    dag: Optional[Dag] = None\n",
        "\n",
        "class Spec(BaseModel):\n",
        "    entrypoint: str\n",
        "    templates: List[Template]\n",
        "\n",
        "class Workflow(BaseModel):\n",
        "    apiVersion: str\n",
        "    kind: str\n",
        "    metadata: Metadata\n",
        "    spec: Spec"
      ],
      "metadata": {
        "id": "uB5w2HwdY-Zz"
      },
      "execution_count": 20,
      "outputs": []
    },
    {
      "cell_type": "code",
      "source": [
        "def load_workflow_yaml(file_path: str) -> Workflow:\n",
        "    with open(file_path, \"r\", encoding=\"utf-8\") as f:\n",
        "        content = yaml.safe_load(f)\n",
        "    return Workflow(**content)"
      ],
      "metadata": {
        "id": "Be92qQN3ZPc8"
      },
      "execution_count": 21,
      "outputs": []
    },
    {
      "cell_type": "code",
      "source": [
        "def plot_workflow_dag(workflow: Workflow, dag_template_name: str = None):\n",
        "    dag_template = None\n",
        "    for t in workflow.spec.templates:\n",
        "        if t.dag is not None:\n",
        "            if dag_template_name is None or t.name == dag_template_name:\n",
        "                dag_template = t\n",
        "                break\n",
        "\n",
        "    tasks = dag_template.dag.tasks\n",
        "    G = nx.DiGraph()\n",
        "\n",
        "    for task in tasks:\n",
        "        G.add_node(task.name)\n",
        "        if task.depends:\n",
        "            dependencies = [dep.strip() for dep in task.depends.split(\"&&\")]\n",
        "            for dep in dependencies:\n",
        "                G.add_edge(dep, task.name)\n",
        "\n",
        "    pos = nx.spring_layout(G)\n",
        "    nx.draw(\n",
        "        G,\n",
        "        pos,\n",
        "        with_labels=True,\n",
        "        node_color=\"lightgreen\",\n",
        "        node_size=2000,\n",
        "        font_size=10,\n",
        "        arrows=True\n",
        "    )\n",
        "    plt.title(\"Workflow DAG\")\n",
        "    plt.show()"
      ],
      "metadata": {
        "id": "dpirxWqbZV9n"
      },
      "execution_count": 22,
      "outputs": []
    },
    {
      "cell_type": "code",
      "execution_count": 23,
      "metadata": {
        "id": "llvd8wBY8ruj",
        "colab": {
          "base_uri": "https://localhost:8080/",
          "height": 1000
        },
        "outputId": "3b2155f6-70e5-4269-9416-aac23c99ae08"
      },
      "outputs": [
        {
          "output_type": "stream",
          "name": "stdout",
          "text": [
            "{\n",
            "  \"apiVersion\": \"argoproj.io/v1alpha1\",\n",
            "  \"kind\": \"Workflow\",\n",
            "  \"metadata\": {\n",
            "    \"generateName\": \"dag-multiroot-\"\n",
            "  },\n",
            "  \"spec\": {\n",
            "    \"entrypoint\": \"multiroot\",\n",
            "    \"templates\": [\n",
            "      {\n",
            "        \"name\": \"echo\",\n",
            "        \"inputs\": {\n",
            "          \"parameters\": [\n",
            "            {\n",
            "              \"name\": \"message\"\n",
            "            }\n",
            "          ]\n",
            "        },\n",
            "        \"container\": {\n",
            "          \"image\": \"alpine:3.7\",\n",
            "          \"command\": [\n",
            "            \"echo\",\n",
            "            \"{{inputs.parameters.message}}\"\n",
            "          ]\n",
            "        },\n",
            "        \"dag\": null\n",
            "      },\n",
            "      {\n",
            "        \"name\": \"multiroot\",\n",
            "        \"inputs\": null,\n",
            "        \"container\": null,\n",
            "        \"dag\": {\n",
            "          \"tasks\": [\n",
            "            {\n",
            "              \"name\": \"A\",\n",
            "              \"template\": \"echo\",\n",
            "              \"depends\": null,\n",
            "              \"arguments\": {\n",
            "                \"parameters\": [\n",
            "                  {\n",
            "                    \"name\": \"message\",\n",
            "                    \"value\": \"A\"\n",
            "                  }\n",
            "                ]\n",
            "              }\n",
            "            },\n",
            "            {\n",
            "              \"name\": \"B\",\n",
            "              \"template\": \"echo\",\n",
            "              \"depends\": null,\n",
            "              \"arguments\": {\n",
            "                \"parameters\": [\n",
            "                  {\n",
            "                    \"name\": \"message\",\n",
            "                    \"value\": \"B\"\n",
            "                  }\n",
            "                ]\n",
            "              }\n",
            "            },\n",
            "            {\n",
            "              \"name\": \"C\",\n",
            "              \"template\": \"echo\",\n",
            "              \"depends\": \"A\",\n",
            "              \"arguments\": {\n",
            "                \"parameters\": [\n",
            "                  {\n",
            "                    \"name\": \"message\",\n",
            "                    \"value\": \"C\"\n",
            "                  }\n",
            "                ]\n",
            "              }\n",
            "            },\n",
            "            {\n",
            "              \"name\": \"D\",\n",
            "              \"template\": \"echo\",\n",
            "              \"depends\": \"A && B\",\n",
            "              \"arguments\": {\n",
            "                \"parameters\": [\n",
            "                  {\n",
            "                    \"name\": \"message\",\n",
            "                    \"value\": \"D\"\n",
            "                  }\n",
            "                ]\n",
            "              }\n",
            "            }\n",
            "          ]\n",
            "        }\n",
            "      }\n",
            "    ]\n",
            "  }\n",
            "}\n"
          ]
        },
        {
          "output_type": "display_data",
          "data": {
            "text/plain": [
              "<Figure size 640x480 with 1 Axes>"
            ],
            "image/png": "[encoded data removed]"
          },
          "metadata": {}
        }
      ],
      "source": [
        "file_path = \"workflow.yaml\"\n",
        "workflow = load_workflow_yaml(file_path)\n",
        "\n",
        "print(json.dumps(workflow.model_dump(), ensure_ascii=False, indent=2))\n",
        "\n",
        "plot_workflow_dag(workflow)"
      ]
    }
  ]
}